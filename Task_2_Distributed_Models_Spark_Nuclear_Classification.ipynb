{
  "nbformat": 4,
  "nbformat_minor": 0,
  "metadata": {
    "colab": {
      "name": "Task_2: Distributed_Models_Spark_Nuclear_Classification.ipynb",
      "provenance": [],
      "collapsed_sections": [],
      "authorship_tag": "ABX9TyPFiqI8OkM5eWyC9tQhGaAb",
      "include_colab_link": true
    },
    "kernelspec": {
      "name": "python3",
      "display_name": "Python 3"
    },
    "accelerator": "GPU"
  },
  "cells": [
    {
      "cell_type": "markdown",
      "metadata": {
        "id": "view-in-github",
        "colab_type": "text"
      },
      "source": [
        "<a href=\"https://colab.research.google.com/github/stevenfox/Pyspark_Nuclear_Classification/blob/master/Task_2_Distributed_Models_Spark_Nuclear_Classification.ipynb\" target=\"_parent\"><img src=\"https://colab.research.google.com/assets/colab-badge.svg\" alt=\"Open In Colab\"/></a>"
      ]
    },
    {
      "cell_type": "markdown",
      "metadata": {
        "id": "YzWJjQg8T_oM",
        "colab_type": "text"
      },
      "source": [
        "# Task: Develop distributed models in Apache spark to classify nuclear reactors\n",
        "\n",
        "The objective of this assessment is to analyse a large dataset concerning pressurised water reactor data, specifically on the properties involved in the fuel assemblies cluster vibrations, alterations of thermal and hydraulic parameters, etc. \n",
        "\n",
        "For over 70 years, the nuclear power industry – in the UK and worldwide – have primarily focused on the technological evolution of reliable nuclear power plants to produce electricity. \n",
        "By monitoring pressurised water reactors (a type of nuclear reactor), whilst operating at nominal conditions, it is possible to collect valuable insight and extract knowledge for early detection of abnormal events. Various types of fluctuations and perturbations can be caused by the turbulent nature of flow in the core, mechanical vibrations within the reactor, the boiling coolant and stochastic character (random noise). The dataset can be downloaded from MyAberdeen.\n",
        "\n",
        "It is based on data from a research project that investigates how to detect anomalies and events in pressurised water reactors. The dataset includes two classes (normal/abnormal condition) and a number of features, which will need to be utilised throughout this assessment.  The class membership of each row is stored in the field ‘Status’. \n",
        "\n",
        "The task is to develop a set of classification models for automatically **classifying reactors** as normal or abnormal, based on their parameters/features. No prior knowledge of the domain problem is needed."
      ]
    },
    {
      "cell_type": "markdown",
      "metadata": {
        "id": "OgFlx9kiVc7M",
        "colab_type": "text"
      },
      "source": [
        "##1. Create Apache Spark Cluster Environment \n",
        "importing and installing  all the required files"
      ]
    },
    {
      "cell_type": "code",
      "metadata": {
        "id": "11tEDgdeU7Dr",
        "colab_type": "code",
        "outputId": "cdfbf88a-9828-41b6-a003-9fcbbb230da7",
        "colab": {
          "base_uri": "https://localhost:8080/",
          "height": 69
        }
      },
      "source": [
        "import os       \n",
        "def install_java():\n",
        "  !apt-get install -y openjdk-8-jdk-headless -qq > /dev/null      #install openjdk\n",
        "  os.environ[\"JAVA_HOME\"] = \"/usr/lib/jvm/java-8-openjdk-amd64\"     #set environment variable\n",
        "  !java -version       \n",
        "install_java()"
      ],
      "execution_count": 43,
      "outputs": [
        {
          "output_type": "stream",
          "text": [
            "openjdk version \"11.0.6\" 2020-01-14\n",
            "OpenJDK Runtime Environment (build 11.0.6+10-post-Ubuntu-1ubuntu118.04.1)\n",
            "OpenJDK 64-Bit Server VM (build 11.0.6+10-post-Ubuntu-1ubuntu118.04.1, mixed mode, sharing)\n"
          ],
          "name": "stdout"
        }
      ]
    },
    {
      "cell_type": "code",
      "metadata": {
        "id": "bEN1BbfuVDIR",
        "colab_type": "code",
        "colab": {}
      },
      "source": [
        "!wget -q https://www-us.apache.org/dist/spark/spark-2.4.5/spark-2.4.5-bin-hadoop2.7.tgz"
      ],
      "execution_count": 0,
      "outputs": []
    },
    {
      "cell_type": "code",
      "metadata": {
        "id": "kxRJGqrEOnfd",
        "colab_type": "code",
        "colab": {}
      },
      "source": [
        "!tar xf spark-2.4.5-bin-hadoop2.7.tgz"
      ],
      "execution_count": 0,
      "outputs": []
    },
    {
      "cell_type": "code",
      "metadata": {
        "id": "z4XaG84wVMoH",
        "colab_type": "code",
        "colab": {}
      },
      "source": [
        "!pip install -q findspark"
      ],
      "execution_count": 0,
      "outputs": []
    },
    {
      "cell_type": "code",
      "metadata": {
        "id": "AgTdSLljVTde",
        "colab_type": "code",
        "colab": {}
      },
      "source": [
        "import os\n",
        "os.environ[\"SPARK_HOME\"] = \"/content/spark-2.4.5-bin-hadoop2.7\"\n",
        "import findspark\n",
        "findspark.init()"
      ],
      "execution_count": 0,
      "outputs": []
    },
    {
      "cell_type": "code",
      "metadata": {
        "id": "bASrS7p1VU_k",
        "colab_type": "code",
        "colab": {}
      },
      "source": [
        "from pyspark.sql import SparkSession\n",
        "spark = SparkSession.builder \\\n",
        "    .master(\"local[*]\") \\\n",
        "    .appName(\"Learning_Spark\") \\\n",
        "    .getOrCreate()"
      ],
      "execution_count": 0,
      "outputs": []
    },
    {
      "cell_type": "markdown",
      "metadata": {
        "id": "t5HzYnmiU3Yo",
        "colab_type": "text"
      },
      "source": [
        "##1.1 Various Statistics on Dataset"
      ]
    },
    {
      "cell_type": "code",
      "metadata": {
        "id": "b_FhpVRVWj62",
        "colab_type": "code",
        "colab": {
          "base_uri": "https://localhost:8080/",
          "height": 277
        },
        "outputId": "063b5bc4-fae9-407a-efc4-1098afc7611d"
      },
      "source": [
        "#read the file using spark read command\n",
        "file_loc = 'dataset.csv'\n",
        "data = spark.read.csv(file_loc, inferSchema=True, header=True)\n",
        "\n",
        "# print out the schema\n",
        "data.printSchema()\n"
      ],
      "execution_count": 49,
      "outputs": [
        {
          "output_type": "stream",
          "text": [
            "root\n",
            " |-- Status: string (nullable = true)\n",
            " |-- Power_range_sensor_1: double (nullable = true)\n",
            " |-- Power_range_sensor_2: double (nullable = true)\n",
            " |-- Power_range_sensor_3 : double (nullable = true)\n",
            " |-- Power_range_sensor_4: double (nullable = true)\n",
            " |-- Pressure _sensor_1: double (nullable = true)\n",
            " |-- Pressure _sensor_2: double (nullable = true)\n",
            " |-- Pressure _sensor_3: double (nullable = true)\n",
            " |-- Pressure _sensor_4: double (nullable = true)\n",
            " |-- Vibration_sensor_1: double (nullable = true)\n",
            " |-- Vibration_sensor_2: double (nullable = true)\n",
            " |-- Vibration_sensor_3: double (nullable = true)\n",
            " |-- Vibration_sensor_4: double (nullable = true)\n",
            "\n"
          ],
          "name": "stdout"
        }
      ]
    },
    {
      "cell_type": "code",
      "metadata": {
        "id": "4nnuanNaXUtK",
        "colab_type": "code",
        "colab": {
          "base_uri": "https://localhost:8080/",
          "height": 34
        },
        "outputId": "8de94541-ed9f-4e7b-9ade-08c8d97bf54a"
      },
      "source": [
        "# show the shape of the dataset\n",
        "data.count(), len(data.columns)"
      ],
      "execution_count": 50,
      "outputs": [
        {
          "output_type": "execute_result",
          "data": {
            "text/plain": [
              "(996, 13)"
            ]
          },
          "metadata": {
            "tags": []
          },
          "execution_count": 50
        }
      ]
    },
    {
      "cell_type": "code",
      "metadata": {
        "id": "6e-cXz2hXnOB",
        "colab_type": "code",
        "colab": {
          "base_uri": "https://localhost:8080/",
          "height": 228
        },
        "outputId": "f19d8956-c18b-4f9e-adc2-2cedd2d1e6fa"
      },
      "source": [
        "data.show(5)"
      ],
      "execution_count": 51,
      "outputs": [
        {
          "output_type": "stream",
          "text": [
            "+------+--------------------+--------------------+---------------------+--------------------+------------------+------------------+------------------+------------------+------------------+------------------+------------------+------------------+\n",
            "|Status|Power_range_sensor_1|Power_range_sensor_2|Power_range_sensor_3 |Power_range_sensor_4|Pressure _sensor_1|Pressure _sensor_2|Pressure _sensor_3|Pressure _sensor_4|Vibration_sensor_1|Vibration_sensor_2|Vibration_sensor_3|Vibration_sensor_4|\n",
            "+------+--------------------+--------------------+---------------------+--------------------+------------------+------------------+------------------+------------------+------------------+------------------+------------------+------------------+\n",
            "|Normal|              4.5044|              0.7443|                 6.34|              1.9052|           29.5315|            0.8647|            2.2044|             6.048|           14.4659|            21.648|           15.3429|            1.2186|\n",
            "|Normal|              4.4284|              0.9073|               5.6433|              1.6232|           27.5032|            1.4704|            1.9929|            5.9856|           20.8356|            0.0646|           14.8813|            7.3483|\n",
            "|Normal|              4.5291|              1.0199|                6.113|              1.0565|           26.4271|            1.9247|             1.942|            6.7162|            5.3358|           11.0779|           25.0914|            9.2408|\n",
            "|Normal|              5.1727|              1.0007|               7.8589|              0.2765|           25.1576|             2.609|            2.9234|            6.7485|            1.9017|            1.8463|            28.664|            4.0157|\n",
            "|Normal|              5.2258|              0.6125|               7.9504|              0.1547|           24.0765|            3.2113|            4.4563|            5.8411|            0.5077|              9.37|           34.8122|           13.4966|\n",
            "+------+--------------------+--------------------+---------------------+--------------------+------------------+------------------+------------------+------------------+------------------+------------------+------------------+------------------+\n",
            "only showing top 5 rows\n",
            "\n"
          ],
          "name": "stdout"
        }
      ]
    },
    {
      "cell_type": "code",
      "metadata": {
        "id": "iAXxL3FrN7_x",
        "colab_type": "code",
        "colab": {}
      },
      "source": [
        "def remove_whitespace(data, _col):\n",
        "  temp = colm.replace(\" \", \"\")\n",
        "  data = data.withColumnRenamed(_col , temp)\n",
        "  return data"
      ],
      "execution_count": 0,
      "outputs": []
    },
    {
      "cell_type": "code",
      "metadata": {
        "id": "j4cbUlRXcYvm",
        "colab_type": "code",
        "colab": {}
      },
      "source": [
        "for colm in data.columns:\n",
        "  data = remove_whitespace(data, colm)  "
      ],
      "execution_count": 0,
      "outputs": []
    },
    {
      "cell_type": "code",
      "metadata": {
        "id": "sITzQx2NX0Ug",
        "colab_type": "code",
        "colab": {
          "base_uri": "https://localhost:8080/",
          "height": 277
        },
        "outputId": "69f76aab-9e4a-49ac-bf9d-e7e363d0189f"
      },
      "source": [
        "data.printSchema()"
      ],
      "execution_count": 54,
      "outputs": [
        {
          "output_type": "stream",
          "text": [
            "root\n",
            " |-- Status: string (nullable = true)\n",
            " |-- Power_range_sensor_1: double (nullable = true)\n",
            " |-- Power_range_sensor_2: double (nullable = true)\n",
            " |-- Power_range_sensor_3: double (nullable = true)\n",
            " |-- Power_range_sensor_4: double (nullable = true)\n",
            " |-- Pressure_sensor_1: double (nullable = true)\n",
            " |-- Pressure_sensor_2: double (nullable = true)\n",
            " |-- Pressure_sensor_3: double (nullable = true)\n",
            " |-- Pressure_sensor_4: double (nullable = true)\n",
            " |-- Vibration_sensor_1: double (nullable = true)\n",
            " |-- Vibration_sensor_2: double (nullable = true)\n",
            " |-- Vibration_sensor_3: double (nullable = true)\n",
            " |-- Vibration_sensor_4: double (nullable = true)\n",
            "\n"
          ],
          "name": "stdout"
        }
      ]
    },
    {
      "cell_type": "code",
      "metadata": {
        "id": "XBjoE1otX7yw",
        "colab_type": "code",
        "outputId": "c839644d-0448-4db5-8a2c-a0d872feb192",
        "colab": {
          "base_uri": "https://localhost:8080/",
          "height": 210
        }
      },
      "source": [
        "data_features = data.drop(\"Status\")\n",
        "data_features.describe().show()"
      ],
      "execution_count": 55,
      "outputs": [
        {
          "output_type": "stream",
          "text": [
            "+-------+--------------------+--------------------+--------------------+--------------------+------------------+------------------+------------------+-----------------+------------------+------------------+------------------+------------------+\n",
            "|summary|Power_range_sensor_1|Power_range_sensor_2|Power_range_sensor_3|Power_range_sensor_4| Pressure_sensor_1| Pressure_sensor_2| Pressure_sensor_3|Pressure_sensor_4|Vibration_sensor_1|Vibration_sensor_2|Vibration_sensor_3|Vibration_sensor_4|\n",
            "+-------+--------------------+--------------------+--------------------+--------------------+------------------+------------------+------------------+-----------------+------------------+------------------+------------------+------------------+\n",
            "|  count|                 996|                 996|                 996|                 996|               996|               996|               996|              996|               996|               996|               996|               996|\n",
            "|   mean|  4.9995738935742935|   6.379273152610441|   9.228112114457822|    7.35527208634539| 14.19912681726909|3.0779579618473885| 5.749233845381525|4.997002126506029| 8.164562875502007|10.001592885542157|15.187981682730923|  9.93359113253011|\n",
            "| stddev|  2.7648555187192883|   2.312568802265547|  2.5321728908943326|   4.354778181006018|11.680045382938973|2.1260909561041483|2.5261356617270905|4.165489943788825| 6.173261395362337| 7.336232686802312|12.159624740968098| 7.282383326906685|\n",
            "|    min|              0.0082|              0.0403|            2.583966|              0.0623|            0.0248|          0.008262|          0.001224|           0.0058|               0.0|            0.0185|            0.0646|            0.0092|\n",
            "|    max|             12.1298|             11.9284|             15.7599|           17.235858|           67.9794|         10.242738|           12.6475|         16.55562|         36.186438|           34.8676|           53.2384|           43.2314|\n",
            "+-------+--------------------+--------------------+--------------------+--------------------+------------------+------------------+------------------+-----------------+------------------+------------------+------------------+------------------+\n",
            "\n"
          ],
          "name": "stdout"
        }
      ]
    },
    {
      "cell_type": "code",
      "metadata": {
        "colab_type": "code",
        "outputId": "29b59e2a-66d9-42f1-c8af-4395ca42ef69",
        "id": "nHianvFpL2jl",
        "colab": {
          "base_uri": "https://localhost:8080/",
          "height": 260
        }
      },
      "source": [
        "data_features.printSchema()"
      ],
      "execution_count": 56,
      "outputs": [
        {
          "output_type": "stream",
          "text": [
            "root\n",
            " |-- Power_range_sensor_1: double (nullable = true)\n",
            " |-- Power_range_sensor_2: double (nullable = true)\n",
            " |-- Power_range_sensor_3: double (nullable = true)\n",
            " |-- Power_range_sensor_4: double (nullable = true)\n",
            " |-- Pressure_sensor_1: double (nullable = true)\n",
            " |-- Pressure_sensor_2: double (nullable = true)\n",
            " |-- Pressure_sensor_3: double (nullable = true)\n",
            " |-- Pressure_sensor_4: double (nullable = true)\n",
            " |-- Vibration_sensor_1: double (nullable = true)\n",
            " |-- Vibration_sensor_2: double (nullable = true)\n",
            " |-- Vibration_sensor_3: double (nullable = true)\n",
            " |-- Vibration_sensor_4: double (nullable = true)\n",
            "\n"
          ],
          "name": "stdout"
        }
      ]
    },
    {
      "cell_type": "code",
      "metadata": {
        "id": "-P0r5uGdYeHO",
        "colab_type": "code",
        "colab": {}
      },
      "source": [
        "from pyspark.sql.functions import col\n",
        "\n",
        "def calc_quantile(_data, _col, quantile_prob):\n",
        "  \n",
        "  \"\"\"\n",
        "  Function that calculates the Quantile of the given probability\n",
        "\n",
        "  Parameters: \n",
        "              _data: dataset\n",
        "              _col: column\n",
        "              quantile_prob: quantile probability\n",
        "  Returns: \n",
        "          The approximate quantiles at the given probabilities.\n",
        "  \"\"\"\n",
        "  return _data.approxQuantile(_col, [quantile_prob], 0.0)\n"
      ],
      "execution_count": 0,
      "outputs": []
    },
    {
      "cell_type": "code",
      "metadata": {
        "id": "rzCT0gw542ol",
        "colab_type": "code",
        "colab": {}
      },
      "source": [
        "def show_table_in_same_order(_prime, _target):\n",
        "\n",
        "  \"\"\"\n",
        "  Function that rearranges the _prime dataframe's columns position(and types)\n",
        "  in such a way that aligns with the order of the _target dataframe's \n",
        "  columns position.\n",
        "\n",
        "  Parameters: \n",
        "              _prime: dataframe that is going to be rearranged\n",
        "              _target: dataframe of which is going to have the same order\n",
        "\n",
        "  Returns: Rearranged dataframe\n",
        "\n",
        "  \"\"\"\n",
        "  rearranged_df = _prime.select(\n",
        "      *(\n",
        "          [\n",
        "              col(t).cast(d) if t in _prime.columns else lit(None).alias(t) \n",
        "              for t, d in _target.dtypes\n",
        "          ] +\n",
        "          [s for s in _prime.columns if s not in _target.columns]\n",
        "      )\n",
        "  )\n",
        "\n",
        "\n",
        "  rearranged_df.show()\n",
        "  return rearranged_df\n"
      ],
      "execution_count": 0,
      "outputs": []
    },
    {
      "cell_type": "markdown",
      "metadata": {
        "id": "4qwTXyQNamBU",
        "colab_type": "text"
      },
      "source": [
        "### Creating Quantile Tables using PySpark\n",
        "Pyspark method `describe()` provides with the general statistical measures of **count**, **mean**, **stddev**, **min** and **max**. However, is not providing the quantiles of **25%** ,**50%**, and **75%** as the pandas does. \n",
        "\n",
        "Taking this into account and in the direction of **using PySpark instead of Pandas Dataframe** for this task, it is essential to calculate the quantiles of each column and create the table by ourselves. \n",
        "\n",
        "The snippet below, calculates for each column the quantiles of **25%** ,**50%**, and **75%** and stores them to three list respectively. Futhermore, it creates dictionary for every list and along with the column name in the form of `key/value` pair, for instance `{Summary: 25%}`. Hence, once the dictionaries are created, they are parallelised to form an RDD. \n",
        "Subsequently, it loads these three RDDs and creates three dataframes accordingly.\n",
        "\n",
        "Lastly, it unites the three tables with each other maintaining the same order and it passes that table to `show_table_in_same_order` function to conform the order with the `data_feature` dataframe **columns**."
      ]
    },
    {
      "cell_type": "code",
      "metadata": {
        "id": "6pevVBsUMR_m",
        "colab_type": "code",
        "outputId": "618061c2-c104-4715-c01d-bffa862e8fe8",
        "colab": {
          "base_uri": "https://localhost:8080/",
          "height": 366
        }
      },
      "source": [
        "import string\n",
        "from pyspark.sql.functions import *\n",
        "from pyspark.sql.types import StringType\n",
        "\n",
        "spark = SparkSession.builder.appName('abc').enableHiveSupport().getOrCreate()\n",
        "sc = spark.sparkContext\n",
        "\n",
        "# Quantile probabilities\n",
        "probabilities = [0.25, 0.50, 0.75]\n",
        "\n",
        "# Lists with the quantile values\n",
        "quantile_25 = []\n",
        "quantile_50 = []\n",
        "quantile_75 = []\n",
        "\n",
        "# The dataset with only the metrics from the features\n",
        "data_f_stats = data_features.describe()\n",
        "# The columns from the dataset with the features\n",
        "cols_data_f_stats = data_f_stats.columns\n",
        "\n",
        "# Calculate each column the quantiles for the probabilites [0.25, 0.50, 0.75]\n",
        "for colm in data_features.columns:\n",
        "    quantile_25.append(calc_quantile(data_features, colm, probabilities[0]))\n",
        "\n",
        "for colm in data_features.columns:\n",
        "    quantile_50.append(calc_quantile(data_features, colm, probabilities[1]))\n",
        "\n",
        "for colm in data_features.columns:\n",
        "    quantile_75.append(calc_quantile(data_features, colm, probabilities[2]))\n",
        "\n",
        "# Add extra column with the quantile metric\n",
        "quantile_25.insert(0,'25%')\n",
        "quantile_50.insert(0,'50%')\n",
        "quantile_75.insert(0,'75%')\n",
        "\n",
        "# Dictionaries for the quantiles along with the column names\n",
        "dic_25 = {}\n",
        "dic_50 = {}\n",
        "dic_75 = {}\n",
        "i=0\n",
        "# Update the dictionaries for each column with the calculated quantile value\n",
        "for col_names in cols_data_f_stats:\n",
        "    dic_25.update({col_names: quantile_25[i]})\n",
        "    dic_50.update({col_names: quantile_50[i]})\n",
        "    dic_75.update({col_names: quantile_75[i]})\n",
        "    i+=1\n",
        "\n",
        "# Parallelise the dictionaries respectively to form RDD\n",
        "rdd_25 = sc.parallelize([dic_25])\n",
        "# Load the RDD's and create the dataframes accordingly.\n",
        "q_25 = spark.read.json(rdd_25)\n",
        "\n",
        "\n",
        "rdd_50 = sc.parallelize([dic_50])\n",
        "q_50 = spark.read.json(rdd_50)\n",
        "\n",
        "rdd_75 = sc.parallelize([dic_75])\n",
        "q_75 = spark.read.json(rdd_75)\n",
        "\n",
        "# Unite the dataframes in pursuit of having a united \n",
        "#dataframe comprised of three metrics \n",
        "dq = q_25.union(q_50)\n",
        "dq_all = dq.union(q_75)\n",
        "\n",
        "\n",
        "# Display the statistical metrics of dataset with features only \n",
        "data_f_stats.show() \n",
        "# conforms with the order of data_f_stats and display the quantiles of the dataset \n",
        "show_table_in_same_order(dq_all, data_f_stats)\n",
        "\n",
        "\n"
      ],
      "execution_count": 59,
      "outputs": [
        {
          "output_type": "stream",
          "text": [
            "+-------+--------------------+--------------------+--------------------+--------------------+------------------+------------------+------------------+-----------------+------------------+------------------+------------------+------------------+\n",
            "|summary|Power_range_sensor_1|Power_range_sensor_2|Power_range_sensor_3|Power_range_sensor_4| Pressure_sensor_1| Pressure_sensor_2| Pressure_sensor_3|Pressure_sensor_4|Vibration_sensor_1|Vibration_sensor_2|Vibration_sensor_3|Vibration_sensor_4|\n",
            "+-------+--------------------+--------------------+--------------------+--------------------+------------------+------------------+------------------+-----------------+------------------+------------------+------------------+------------------+\n",
            "|  count|                 996|                 996|                 996|                 996|               996|               996|               996|              996|               996|               996|               996|               996|\n",
            "|   mean|  4.9995738935742935|   6.379273152610441|   9.228112114457822|    7.35527208634539| 14.19912681726909|3.0779579618473885| 5.749233845381525|4.997002126506029| 8.164562875502007|10.001592885542157|15.187981682730923|  9.93359113253011|\n",
            "| stddev|  2.7648555187192883|   2.312568802265547|  2.5321728908943326|   4.354778181006018|11.680045382938973|2.1260909561041483|2.5261356617270905|4.165489943788825| 6.173261395362337| 7.336232686802312|12.159624740968098| 7.282383326906685|\n",
            "|    min|              0.0082|              0.0403|            2.583966|              0.0623|            0.0248|          0.008262|          0.001224|           0.0058|               0.0|            0.0185|            0.0646|            0.0092|\n",
            "|    max|             12.1298|             11.9284|             15.7599|           17.235858|           67.9794|         10.242738|           12.6475|         16.55562|         36.186438|           34.8676|           53.2384|           43.2314|\n",
            "+-------+--------------------+--------------------+--------------------+--------------------+------------------+------------------+------------------+-----------------+------------------+------------------+------------------+------------------+\n",
            "\n",
            "+-------+--------------------+--------------------+--------------------+--------------------+-----------------+-----------------+-----------------+-----------------+------------------+------------------+------------------+------------------+\n",
            "|summary|Power_range_sensor_1|Power_range_sensor_2|Power_range_sensor_3|Power_range_sensor_4|Pressure_sensor_1|Pressure_sensor_2|Pressure_sensor_3|Pressure_sensor_4|Vibration_sensor_1|Vibration_sensor_2|Vibration_sensor_3|Vibration_sensor_4|\n",
            "+-------+--------------------+--------------------+--------------------+--------------------+-----------------+-----------------+-----------------+-----------------+------------------+------------------+------------------+------------------+\n",
            "|    25%|            [2.8894]|            [4.9283]|            [7.5018]|          [3.425364]|         [5.0037]|         [1.4149]|         [4.0054]|         [1.5721]|          [3.1849]|          [3.9973]|           [5.502]|          [3.8219]|\n",
            "|    50%|            [4.8788]|            [6.4691]|            [9.3347]|            [7.0633]|        [11.7085]|       [2.671788]|         [5.7394]|         [3.8586]|          [6.7483]|          [8.7792]|         [12.1672]|          [8.8438]|\n",
            "|    75%|            [6.7877]|            [8.0988]|           [11.0468]|           [10.9103]|        [20.2629]|         [4.5025]|         [7.4988]|         [7.5993]|         [11.2533]|        [14.67984]|         [21.8327]|         [14.3551]|\n",
            "+-------+--------------------+--------------------+--------------------+--------------------+-----------------+-----------------+-----------------+-----------------+------------------+------------------+------------------+------------------+\n",
            "\n"
          ],
          "name": "stdout"
        },
        {
          "output_type": "execute_result",
          "data": {
            "text/plain": [
              "DataFrame[summary: string, Power_range_sensor_1: string, Power_range_sensor_2: string, Power_range_sensor_3: string, Power_range_sensor_4: string, Pressure_sensor_1: string, Pressure_sensor_2: string, Pressure_sensor_3: string, Pressure_sensor_4: string, Vibration_sensor_1: string, Vibration_sensor_2: string, Vibration_sensor_3: string, Vibration_sensor_4: string]"
            ]
          },
          "metadata": {
            "tags": []
          },
          "execution_count": 59
        }
      ]
    },
    {
      "cell_type": "code",
      "metadata": {
        "id": "qKAfIVauBL0R",
        "colab_type": "code",
        "outputId": "6ff6fc00-985e-4edd-a624-72b0b190831a",
        "colab": {
          "base_uri": "https://localhost:8080/",
          "height": 260
        }
      },
      "source": [
        "data_features.printSchema()"
      ],
      "execution_count": 60,
      "outputs": [
        {
          "output_type": "stream",
          "text": [
            "root\n",
            " |-- Power_range_sensor_1: double (nullable = true)\n",
            " |-- Power_range_sensor_2: double (nullable = true)\n",
            " |-- Power_range_sensor_3: double (nullable = true)\n",
            " |-- Power_range_sensor_4: double (nullable = true)\n",
            " |-- Pressure_sensor_1: double (nullable = true)\n",
            " |-- Pressure_sensor_2: double (nullable = true)\n",
            " |-- Pressure_sensor_3: double (nullable = true)\n",
            " |-- Pressure_sensor_4: double (nullable = true)\n",
            " |-- Vibration_sensor_1: double (nullable = true)\n",
            " |-- Vibration_sensor_2: double (nullable = true)\n",
            " |-- Vibration_sensor_3: double (nullable = true)\n",
            " |-- Vibration_sensor_4: double (nullable = true)\n",
            "\n"
          ],
          "name": "stdout"
        }
      ]
    },
    {
      "cell_type": "code",
      "metadata": {
        "id": "BDlvpgyVZ0aY",
        "colab_type": "code",
        "colab": {
          "base_uri": "https://localhost:8080/",
          "height": 141
        },
        "outputId": "a7909136-caeb-4a68-d299-6ef4984cf910"
      },
      "source": [
        "# Count of missing values of dataframe\n",
        "\n",
        "data_features.select([count(when(isnan(c), c)).alias(c) for c in data_features.columns]).show()"
      ],
      "execution_count": 61,
      "outputs": [
        {
          "output_type": "stream",
          "text": [
            "+--------------------+--------------------+--------------------+--------------------+-----------------+-----------------+-----------------+-----------------+------------------+------------------+------------------+------------------+\n",
            "|Power_range_sensor_1|Power_range_sensor_2|Power_range_sensor_3|Power_range_sensor_4|Pressure_sensor_1|Pressure_sensor_2|Pressure_sensor_3|Pressure_sensor_4|Vibration_sensor_1|Vibration_sensor_2|Vibration_sensor_3|Vibration_sensor_4|\n",
            "+--------------------+--------------------+--------------------+--------------------+-----------------+-----------------+-----------------+-----------------+------------------+------------------+------------------+------------------+\n",
            "|                   0|                   0|                   0|                   0|                0|                0|                0|                0|                 0|                 0|                 0|                 0|\n",
            "+--------------------+--------------------+--------------------+--------------------+-----------------+-----------------+-----------------+-----------------+------------------+------------------+------------------+------------------+\n",
            "\n"
          ],
          "name": "stdout"
        }
      ]
    },
    {
      "cell_type": "markdown",
      "metadata": {
        "id": "EgrUkf5CWLXn",
        "colab_type": "text"
      },
      "source": [
        "##2. Visualisation\n"
      ]
    },
    {
      "cell_type": "markdown",
      "metadata": {
        "id": "zgPhUmtbWGl5",
        "colab_type": "text"
      },
      "source": [
        "###2.1 Box Plot"
      ]
    },
    {
      "cell_type": "code",
      "metadata": {
        "id": "0ueSDaofchpn",
        "colab_type": "code",
        "colab": {}
      },
      "source": [
        "import matplotlib.pyplot as plt\n",
        "import pandas as pd\n",
        "import seaborn as sns\n",
        "data_df = data.toPandas()"
      ],
      "execution_count": 0,
      "outputs": []
    },
    {
      "cell_type": "code",
      "metadata": {
        "id": "_Ugnjq9g9sqD",
        "colab_type": "code",
        "colab": {
          "base_uri": "https://localhost:8080/",
          "height": 138
        },
        "outputId": "29b6e3b9-dcd5-401c-b67b-d3d660010278"
      },
      "source": [
        "# Display the number of Status for each state\n",
        "data.groupBy(\"Status\").count().show()"
      ],
      "execution_count": 63,
      "outputs": [
        {
          "output_type": "stream",
          "text": [
            "+--------+-----+\n",
            "|  Status|count|\n",
            "+--------+-----+\n",
            "|Abnormal|  498|\n",
            "|  Normal|  498|\n",
            "+--------+-----+\n",
            "\n"
          ],
          "name": "stdout"
        }
      ]
    },
    {
      "cell_type": "code",
      "metadata": {
        "id": "MPuKFTvWofho",
        "colab_type": "code",
        "colab": {
          "base_uri": "https://localhost:8080/",
          "height": 610
        },
        "outputId": "fdd398a0-0697-4f2d-f011-313a51bceb38"
      },
      "source": [
        "#plot box plot\n",
        "\n",
        "sns.set(style='whitegrid', palette=\"Paired\", font_scale=1, rc={\"figure.figsize\": [12, 10]})\n",
        "ax = sns.boxplot(x=\"Status\", y=\"Vibration_sensor_1\", data=data_df, dodge=False)\n",
        "ax = sns.swarmplot(x=\"Status\", y=\"Vibration_sensor_1\", data=data_df, color=\".2\")\n",
        "plt.show()"
      ],
      "execution_count": 64,
      "outputs": [
        {
          "output_type": "display_data",
          "data": {
            "image/png": "[encoded data removed]",
            "text/plain": [
              "<Figure size 864x720 with 1 Axes>"
            ]
          },
          "metadata": {
            "tags": []
          }
        }
      ]
    },
    {
      "cell_type": "markdown",
      "metadata": {
        "id": "j8ByRNYnWUKw",
        "colab_type": "text"
      },
      "source": [
        "###2.2 Distribution Plot"
      ]
    },
    {
      "cell_type": "code",
      "metadata": {
        "id": "K6qcOUdSX6l2",
        "colab_type": "code",
        "colab": {}
      },
      "source": [
        "# Filter values\n",
        "normal_status = data_df[data_df['Status'] == 'Normal']\n",
        "abnormal_status = data_df[data_df['Status'] == 'Abnormal']"
      ],
      "execution_count": 0,
      "outputs": []
    },
    {
      "cell_type": "code",
      "metadata": {
        "id": "qV254Bb4Wbvy",
        "colab_type": "code",
        "colab": {
          "base_uri": "https://localhost:8080/",
          "height": 626
        },
        "outputId": "5d30f453-b2aa-4e4d-b40b-4bdf6ac7e7d5"
      },
      "source": [
        "# Plot values distribution \n",
        "\n",
        "sns.set(style='whitegrid', font_scale=1, rc={\"figure.figsize\": [12, 10]})\n",
        "dist_plot_color_set = [\"#34e7e4\",\"#ef5777\"]\n",
        "sns.set_palette(dist_plot_color_set)\n",
        "sns.distplot(normal_status['Vibration_sensor_2'], label='Normal Class').set_title('Class Distribution')\n",
        "sns.distplot(abnormal_status['Vibration_sensor_2'], label='Abnormal Class')\n",
        "plt.legend()\n",
        "plt.show()"
      ],
      "execution_count": 66,
      "outputs": [
        {
          "output_type": "display_data",
          "data": {
            "image/png": "[encoded data removed]",
            "text/plain": [
              "<Figure size 864x720 with 1 Axes>"
            ]
          },
          "metadata": {
            "tags": []
          }
        }
      ]
    },
    {
      "cell_type": "markdown",
      "metadata": {
        "id": "lhfLujbHlHdP",
        "colab_type": "text"
      },
      "source": [
        "#3. Logistic regression classification\n",
        "\n",
        "Develop and train a binary logistic regression model to classify the condition of nuclear reactors, i.e. normal or abnormal, based on their operatation. \n",
        "Furthermore, perform split to the provided dataset into training (75%) and test (25%) sets.\n"
      ]
    },
    {
      "cell_type": "code",
      "metadata": {
        "id": "XYHeCM6nlJoZ",
        "colab_type": "code",
        "colab": {}
      },
      "source": [
        "# import all the required libraries for preparing and classifying the dataset \n",
        "from pyspark.ml.feature import VectorAssembler, StringIndexer, StandardScaler\n",
        "from pyspark.sql.types import *"
      ],
      "execution_count": 0,
      "outputs": []
    },
    {
      "cell_type": "code",
      "metadata": {
        "id": "LzyEBjTfNlhc",
        "colab_type": "code",
        "colab": {
          "base_uri": "https://localhost:8080/",
          "height": 228
        },
        "outputId": "c35cd123-c528-46fe-c386-f70367541b82"
      },
      "source": [
        "# Encode the string column of Status to a column of label indices\n",
        "\n",
        "index_ = StringIndexer(inputCol=\"Status\", outputCol=\"label\")\n",
        "data = index_.fit(data).transform(data)\n",
        "data = data.withColumn(\"label\", data[\"label\"].cast(IntegerType()))\n",
        "data = data.drop(\"Status\")\n",
        "\n",
        "data.show(5)"
      ],
      "execution_count": 68,
      "outputs": [
        {
          "output_type": "stream",
          "text": [
            "+--------------------+--------------------+--------------------+--------------------+-----------------+-----------------+-----------------+-----------------+------------------+------------------+------------------+------------------+-----+\n",
            "|Power_range_sensor_1|Power_range_sensor_2|Power_range_sensor_3|Power_range_sensor_4|Pressure_sensor_1|Pressure_sensor_2|Pressure_sensor_3|Pressure_sensor_4|Vibration_sensor_1|Vibration_sensor_2|Vibration_sensor_3|Vibration_sensor_4|label|\n",
            "+--------------------+--------------------+--------------------+--------------------+-----------------+-----------------+-----------------+-----------------+------------------+------------------+------------------+------------------+-----+\n",
            "|              4.5044|              0.7443|                6.34|              1.9052|          29.5315|           0.8647|           2.2044|            6.048|           14.4659|            21.648|           15.3429|            1.2186|    0|\n",
            "|              4.4284|              0.9073|              5.6433|              1.6232|          27.5032|           1.4704|           1.9929|           5.9856|           20.8356|            0.0646|           14.8813|            7.3483|    0|\n",
            "|              4.5291|              1.0199|               6.113|              1.0565|          26.4271|           1.9247|            1.942|           6.7162|            5.3358|           11.0779|           25.0914|            9.2408|    0|\n",
            "|              5.1727|              1.0007|              7.8589|              0.2765|          25.1576|            2.609|           2.9234|           6.7485|            1.9017|            1.8463|            28.664|            4.0157|    0|\n",
            "|              5.2258|              0.6125|              7.9504|              0.1547|          24.0765|           3.2113|           4.4563|           5.8411|            0.5077|              9.37|           34.8122|           13.4966|    0|\n",
            "+--------------------+--------------------+--------------------+--------------------+-----------------+-----------------+-----------------+-----------------+------------------+------------------+------------------+------------------+-----+\n",
            "only showing top 5 rows\n",
            "\n"
          ],
          "name": "stdout"
        }
      ]
    },
    {
      "cell_type": "code",
      "metadata": {
        "id": "zyZZXRMEOOk8",
        "colab_type": "code",
        "colab": {}
      },
      "source": [
        "# scaling / standardizing features to help convergence of the two models for optimization\n",
        "\n",
        "#combine all feautures into a single feature vector namely features\n",
        "vec_assembler = VectorAssembler(inputCols=data.columns[1:-1],\n",
        "                            outputCol=\"features\")\n",
        "#therefore we use that single vector features to predict the Status\n",
        "predictors = vec_assembler.transform(data)\n",
        "# normalise features with stddev \n",
        "std_scaler = StandardScaler(inputCol=\"features\", outputCol=\"scaled_features\")\n",
        "predictors = std_scaler.fit(predictors).transform(predictors)\n"
      ],
      "execution_count": 0,
      "outputs": []
    },
    {
      "cell_type": "code",
      "metadata": {
        "id": "6guwP-ta09xu",
        "colab_type": "code",
        "colab": {
          "base_uri": "https://localhost:8080/",
          "height": 228
        },
        "outputId": "9abc72e2-ba2a-446d-a891-517c6d4cc399"
      },
      "source": [
        "#create the model data with those scaled features\n",
        "model_data = predictors.select(\"scaled_features\", \"label\")\n",
        "model_data.show(5, truncate=False)"
      ],
      "execution_count": 70,
      "outputs": [
        {
          "output_type": "stream",
          "text": [
            "+-------------------------------------------------------------------------------------------------------------------------------------------------------------------------------------------------------------------+-----+\n",
            "|scaled_features                                                                                                                                                                                                    |label|\n",
            "+-------------------------------------------------------------------------------------------------------------------------------------------------------------------------------------------------------------------+-----+\n",
            "|[0.3218498836751728,2.5037784832143863,0.43749645121071834,2.528372025260846,0.40670884635362786,0.8726372195279792,1.4519300446321306,2.3433156436349054,2.9508333396982045,1.2617905837428387,0.167335327638901] |0    |\n",
            "|[0.3923342730867718,2.228639292480086,0.3727399955937634,2.354716878084557,0.6915978809741811,0.7889124999080519,1.4369498140129102,3.3751365227548535,0.008805609467133409,1.2238288859245843,1.0090515247734582] |0    |\n",
            "|[0.4410247163244777,2.4141321558185402,0.24260707574224435,2.262585386748756,0.9052764156086822,0.7687631465810812,1.612343347512949,0.8643405257403362,1.510025713869306,2.063501179889399,1.26892523850776]      |0    |\n",
            "|[0.432722260639185,3.103619041282893,0.063493475099603,2.1538957405720076,1.2271347058362612,1.1572616800798832,1.6200975374007827,0.30805434570268697,0.25166868048248314,2.3573095889567637,0.5514266167729647]  |0    |\n",
            "|[0.26485698475217434,3.1397540146605136,0.03552419746079054,2.061336168707744,1.5104245614610907,1.7640778630840743,1.4022600171462862,0.08224177909936067,1.2772223019665638,2.862933745209344,1.8533218307986143]|0    |\n",
            "+-------------------------------------------------------------------------------------------------------------------------------------------------------------------------------------------------------------------+-----+\n",
            "only showing top 5 rows\n",
            "\n"
          ],
          "name": "stdout"
        }
      ]
    },
    {
      "cell_type": "markdown",
      "metadata": {
        "id": "t0DGgFKLQgkz",
        "colab_type": "text"
      },
      "source": [
        "### Create Split of training and testing set"
      ]
    },
    {
      "cell_type": "code",
      "metadata": {
        "id": "K6sft02gQm6P",
        "colab_type": "code",
        "colab": {}
      },
      "source": [
        "train_data, test_data = model_data.randomSplit([.75,.25], seed=36)"
      ],
      "execution_count": 0,
      "outputs": []
    },
    {
      "cell_type": "code",
      "metadata": {
        "id": "8XoWfmm41raY",
        "colab_type": "code",
        "colab": {
          "base_uri": "https://localhost:8080/",
          "height": 52
        },
        "outputId": "49983883-7353-4d4c-9088-b879e6f3da06"
      },
      "source": [
        "print(\"Number of observations in training set: \" + str(train_data.count()))\n",
        "print(\"Number of observations in test set: \" + str(test_data.count()))"
      ],
      "execution_count": 87,
      "outputs": [
        {
          "output_type": "stream",
          "text": [
            "Number of observations in training set: 759\n",
            "Number of observations in test set: 237\n"
          ],
          "name": "stdout"
        }
      ]
    },
    {
      "cell_type": "code",
      "metadata": {
        "id": "0mj0W083NiNK",
        "colab_type": "code",
        "colab": {}
      },
      "source": [
        "from pyspark.ml.classification import LogisticRegression"
      ],
      "execution_count": 0,
      "outputs": []
    },
    {
      "cell_type": "code",
      "metadata": {
        "id": "k1OUN4J-QoB6",
        "colab_type": "code",
        "colab": {}
      },
      "source": [
        "# Logistic Regression\n",
        "\n",
        "\"\"\"\n",
        "Hyper-Parameters: \n",
        "                  maxIter = 17\n",
        "                  From a various testings we performed on this model \n",
        "                  we observed that the value '17' maximises the overall\n",
        "                  score of the model.\n",
        "\n",
        "                  elasticNetParam = 0.5\n",
        "                  From a various testings we performed on this model \n",
        "                  we observed that the value '0.5' regularisation\n",
        "                  maximises the overall score of the model slightly while \n",
        "                  greater or lower values evidences no significant difference.\n",
        "\n",
        "                  The rest of the hyper-parameters are set by the default configuration\n",
        "                  which drives to more general use of the model.\n",
        "\"\"\"\n",
        "\n",
        "lr = LogisticRegression(featuresCol=\"scaled_features\", labelCol=\"label\", maxIter=17, elasticNetParam=0.5)\n",
        "lrModel = lr.fit(train_data)"
      ],
      "execution_count": 0,
      "outputs": []
    },
    {
      "cell_type": "markdown",
      "metadata": {
        "id": "AYeOE7x4RRKN",
        "colab_type": "text"
      },
      "source": [
        "#4. Report the performance of the logistic regression model\n",
        "\n",
        "\n",
        "Precision/Recall, Accuracy and Area under the curve (AUROC)"
      ]
    },
    {
      "cell_type": "code",
      "metadata": {
        "id": "Lg8aWE2yNneV",
        "colab_type": "code",
        "colab": {}
      },
      "source": [
        "# import ml libraries for evaluation and metrics tools\n",
        "\n",
        "from pyspark.mllib.evaluation import BinaryClassificationMetrics, MulticlassMetrics\n",
        "from pyspark.ml.evaluation import BinaryClassificationEvaluator, MulticlassClassificationEvaluator"
      ],
      "execution_count": 0,
      "outputs": []
    },
    {
      "cell_type": "code",
      "metadata": {
        "id": "Isi8-8Uw_RGc",
        "colab_type": "code",
        "colab": {}
      },
      "source": [
        "def print_model_performance(_train, _test, _model):\n",
        "\n",
        "  \"\"\"\n",
        "  Function that prints out the metrics from the model evaluation \n",
        "  for both training and testing predictions. It returns sensible information\n",
        "  that can be used for futher analysis in regards to the evaluation.\n",
        "\n",
        "  Parameters: \n",
        "              _train: training set\n",
        "              _test: testing set\n",
        "              _model: machine learning model (either Linear Regression or Gradient-boosting tree )\n",
        "  Returns:\n",
        "          In Case of Linear Regression: model training summary\n",
        "          In Case of Gradient-boosting tree: model predictions on testing set            \n",
        "\n",
        "  \"\"\"\n",
        "\n",
        "  print('_Model Id: ',_model.uid)\n",
        "\n",
        "  _model_train_predictions = _model.transform(_train)\n",
        "  _model_test_predictions = _model.transform(_test)\n",
        "\n",
        "  # Metrics for the evaluation in Precision/Recall, Accuracy and Area under the curve (AUROC)\n",
        "  auc_eval = BinaryClassificationEvaluator(metricName='areaUnderROC', labelCol='label')\n",
        "  acc_eval = MulticlassClassificationEvaluator(metricName='accuracy', labelCol='label')\n",
        "  precision_eval = MulticlassClassificationEvaluator(metricName='weightedPrecision', labelCol='label')\n",
        "  recall_eval = MulticlassClassificationEvaluator(metricName='weightedRecall', labelCol='label')\n",
        "\n",
        "  print('- - -- - - - - - -- - - - - - - - - - - - - - - - - - -- - - - - - - - - -- -')\n",
        "  print('- - -- - - - - - -- - - -  Performance Metrics - - - - - - -- - - - - -- -- -\\n')\n",
        "  print('Training set AUC: ' + str(auc_eval.evaluate(_model_train_predictions)))\n",
        "  print('Training set Precision:' + str(precision_eval.evaluate(_model_train_predictions)))\n",
        "  print('Training set Recall:' + str(recall_eval.evaluate(_model_train_predictions)))\n",
        "  print('Training set Accuracy: ' + str(acc_eval.evaluate(_model_train_predictions)))\n",
        "\n",
        "  print('- - -- - - - - - -- - - - - - - - - - - - - - - - - - -- - - - - - - - - -- -')\n",
        "  print('Test set AUC: ' + str(auc_eval.evaluate(_model_test_predictions)))\n",
        "  print('Test set Precision:' + str(precision_eval.evaluate(_model_test_predictions)))\n",
        "  print('Test set Recall:' + str(recall_eval.evaluate(_model_test_predictions)))\n",
        "  print('Test set Accuracy:' + str(acc_eval.evaluate(_model_test_predictions)))\n",
        "  print('\\n- - -- - - - - - -- - - - - - - - - - - - - - - - - - -- - - - - - - - - -- -')\n",
        "\n",
        "\n",
        "  return _model.summary if 'LogisticRegression' in _model.uid else _model_test_predictions"
      ],
      "execution_count": 0,
      "outputs": []
    },
    {
      "cell_type": "code",
      "metadata": {
        "id": "fgltQFZED5Xz",
        "colab_type": "code",
        "colab": {
          "base_uri": "https://localhost:8080/",
          "height": 277
        },
        "outputId": "0e44fcd4-7f6f-4427-db01-c1f4cce38989"
      },
      "source": [
        "training_summary = print_model_performance(train_data, test_data, lrModel)"
      ],
      "execution_count": 122,
      "outputs": [
        {
          "output_type": "stream",
          "text": [
            "_Model Id:  LogisticRegression_e2b2de2107c8\n",
            "- - -- - - - - - -- - - - - - - - - - - - - - - - - - -- - - - - - - - - -- -\n",
            "- - -- - - - - - -- - - -  Performance Metrics - - - - - - -- - - - - -- -- -\n",
            "\n",
            "Training set AUC: 0.7978646499471727\n",
            "Training set Precision:0.7179509029987412\n",
            "Training set Recall:0.7180500658761528\n",
            "Training set Accuracy: 0.7180500658761528\n",
            "- - -- - - - - - -- - - - - - - - - - - - - - - - - - -- - - - - - - - - -- -\n",
            "Test set AUC: 0.7743050554515342\n",
            "Test set Precision:0.7319957805907173\n",
            "Test set Recall:0.729957805907173\n",
            "Test set Accuracy:0.729957805907173\n",
            "\n",
            "- - -- - - - - - -- - - - - - - - - - - - - - - - - - -- - - - - - - - - -- -\n"
          ],
          "name": "stdout"
        }
      ]
    },
    {
      "cell_type": "code",
      "metadata": {
        "id": "VmkA1B48QuzD",
        "colab_type": "code",
        "colab": {
          "base_uri": "https://localhost:8080/",
          "height": 626
        },
        "outputId": "8ad962c1-c0dd-448b-fc94-f427582b84c5"
      },
      "source": [
        "# Draw a Receiver Operating Characteristic Plot\n",
        "\n",
        "roc = training_summary.roc.toPandas()\n",
        "plt.plot(roc['FPR'], roc['TPR'], color='darkorange', linewidth=4, label='ROC Curve')\n",
        "plt.ylabel('False Positive Rate')\n",
        "plt.xlabel('True Positive Rate')\n",
        "plt.title('ROC Curve Plot')\n",
        "plt.show()"
      ],
      "execution_count": 77,
      "outputs": [
        {
          "output_type": "display_data",
          "data": {
            "image/png": "[encoded data removed]",
            "text/plain": [
              "<Figure size 864x720 with 1 Axes>"
            ]
          },
          "metadata": {
            "tags": []
          }
        }
      ]
    },
    {
      "cell_type": "markdown",
      "metadata": {
        "id": "FRC3Xp5mQ6gX",
        "colab_type": "text"
      },
      "source": [
        "#5. Gradient-boosting tree classification\n",
        "\n",
        "In this section, we are going to use an additional machine learning technique, **Gradient-boosting tree** to classify the condition of nuclear reactors.\n"
      ]
    },
    {
      "cell_type": "code",
      "metadata": {
        "id": "XO0zD5As6XgF",
        "colab_type": "code",
        "colab": {}
      },
      "source": [
        "# import GBT Classifier ML library\n",
        "\n",
        "from pyspark.ml.classification import GBTClassifier"
      ],
      "execution_count": 0,
      "outputs": []
    },
    {
      "cell_type": "code",
      "metadata": {
        "id": "ed5CQ5JoRFpJ",
        "colab_type": "code",
        "colab": {}
      },
      "source": [
        "# Gradient-boosting tree model\n",
        "\n",
        "\"\"\"\n",
        "Hyper-Parameters: \n",
        "                  maxIter = 30\n",
        "                  From a various testings we performed on this model \n",
        "                  we observed that the value '30' maximises the overall\n",
        "                  score of the model.\n",
        "\n",
        "                  maxDepth = 3\n",
        "                  From a various testings we performed on this model \n",
        "                  we observed that the value '3' maximises the overall\n",
        "                  score of the model while greater values evidences to overfitting.\n",
        "\n",
        "                  stepSize = 0.3\n",
        "                  From a various testings we performed on this model \n",
        "                  we observed that the value '0.3' for each iteration of optimisation\n",
        "                  maximises the overall score of the model while greater values evidences \n",
        "                  to overfitting.\n",
        "\n",
        "                  The rest of the hyper-parameters are set by the default configuration\n",
        "                  which drives to more general use of the model.\n",
        "\"\"\"\n",
        "\n",
        "gbt = GBTClassifier(labelCol=\"label\", featuresCol=\"scaled_features\", maxIter=30, maxDepth=3, stepSize=0.3)\n",
        "gbt_model = gbt.fit(train_data)"
      ],
      "execution_count": 0,
      "outputs": []
    },
    {
      "cell_type": "markdown",
      "metadata": {
        "id": "DeNRI3fW9RBL",
        "colab_type": "text"
      },
      "source": [
        "#6. Report the performance of the Logistic Regression model \n",
        "Additionaly in this section, we evaluate the performance of the **Gradient-boosting tree model** , same as in section 4 for the logistic regression approach. "
      ]
    },
    {
      "cell_type": "code",
      "metadata": {
        "id": "ov8ggcErESZF",
        "colab_type": "code",
        "colab": {
          "base_uri": "https://localhost:8080/",
          "height": 277
        },
        "outputId": "35be6a53-06df-41b8-e59c-9dcb64b7af1c"
      },
      "source": [
        "test_predictions = print_model_performance(train_data, test_data, gbt_model)"
      ],
      "execution_count": 110,
      "outputs": [
        {
          "output_type": "stream",
          "text": [
            "_Model Id:  GBTClassifier_0fd1897305e7\n",
            "- - -- - - - - - -- - - - - - - - - - - - - - - - - - -- - - - - - - - - -- -\n",
            "- - -- - - - - - -- - - -  Performance Metrics - - - - - - -- - - - - -- -- -\n",
            "\n",
            "Training set AUC: 0.9996594005449592\n",
            "Training set Precision:0.9907799491379932\n",
            "Training set Recall:0.9907773386034255\n",
            "Training set Accuracy: 0.9907773386034255\n",
            "- - -- - - - - - -- - - - - - - - - - - - - - - - - - -- - - - - - - - - -- -\n",
            "Test set AUC: 0.9166786691631851\n",
            "Test set Precision:0.844523296268339\n",
            "Test set Recall:0.8438818565400844\n",
            "Test set Accuracy:0.8438818565400844\n",
            "\n",
            "- - -- - - - - - -- - - - - - - - - - - - - - - - - - -- - - - - - - - - -- -\n"
          ],
          "name": "stdout"
        }
      ]
    },
    {
      "cell_type": "markdown",
      "metadata": {
        "id": "CCjMPOjy4d9X",
        "colab_type": "text"
      },
      "source": [
        "The following table displays the predictions of the **Gradient-boosting tree model** on testing set. The first two columns `scaled_features` and `label` indicate the data set before is fitted into the model. \n",
        "Furthermore, `rawPrediction` column illustrates the measure of confidence in eash possible label. The larger value it is, the stronger confidence it has. \n",
        "Lastly the `probability` column denotes the outcome of applying the logistic function to `rawPrediction` column where the `prediction` column presents the maximum probability value from the `propability` column(array), in other words the predicted label.  "
      ]
    },
    {
      "cell_type": "code",
      "metadata": {
        "id": "S4AkZj7vRq80",
        "colab_type": "code",
        "colab": {
          "base_uri": "https://localhost:8080/",
          "height": 228
        },
        "outputId": "cb98d27a-71bb-4938-bd3d-373226c4e705"
      },
      "source": [
        "test_predictions.show(5, truncate=False)"
      ],
      "execution_count": 99,
      "outputs": [
        {
          "output_type": "stream",
          "text": [
            "+----------------------------------------------------------------------------------------------------------------------------------------------------------------------------------------------------------------------+-----+----------------------------------------+-----------------------------------------+----------+\n",
            "|scaled_features                                                                                                                                                                                                       |label|rawPrediction                           |probability                              |prediction|\n",
            "+----------------------------------------------------------------------------------------------------------------------------------------------------------------------------------------------------------------------+-----+----------------------------------------+-----------------------------------------+----------+\n",
            "|[0.16825445349725882,2.2301004881248643,0.5167657011361539,3.708701343170657,1.1814640351054444,0.28783093917564584,1.2546183211395465,0.43965415137595987,0.4567875833639437,0.3553070174479766,0.049434365624490696]|1    |[-1.7614376730515442,1.7614376730515442]|[0.028668319151071726,0.9713316808489283]|1.0       |\n",
            "|[0.22407981958951304,1.7307664953525819,0.4219503092062224,1.6414234167278468,1.0922862887556724,2.7080889216071973,0.8494558978052796,2.229664211261237,2.728103217882477,0.33556956624264506,2.8205326577782324]    |0    |[-1.797596121784252,1.797596121784252]  |[0.026721748138440932,0.973278251861559] |1.0       |\n",
            "|[0.23514976050323655,2.824846607323739,0.1541065863990726,0.9544569078716094,2.0209389385077285,1.414452934628662,1.1072647064908692,2.392657471315948,1.0909959296136589,2.053632454286733,0.2940932801610326]       |0    |[1.189930036156122,-1.189930036156122]  |[0.9152785843894874,0.08472141561051261] |0.0       |\n",
            "|[0.25850041711812216,2.202258787325714,0.2720460034376118,0.116335164415097,1.0727198633962287,1.1293534402065741,1.0803531062919172,0.1615029619107004,1.1904066259662966,2.2434327194400026,0.2902895803615926]     |0    |[1.364094479868998,-1.364094479868998]  |[0.9386696603232426,0.061330339676757384]|0.0       |\n",
            "|[0.3317522917581521,2.6241889026989393,0.5550225291708515,4.195694313960702,1.1684354297579302,1.107383123710565,1.1921766867796233,1.6658941427177965,0.9802578935285323,0.7690697862157434,1.9712090610447954]      |1    |[-0.8630743390577286,0.8630743390577286]|[0.15108086923735584,0.8489191307626441] |1.0       |\n",
            "+----------------------------------------------------------------------------------------------------------------------------------------------------------------------------------------------------------------------+-----+----------------------------------------+-----------------------------------------+----------+\n",
            "only showing top 5 rows\n",
            "\n"
          ],
          "name": "stdout"
        }
      ]
    },
    {
      "cell_type": "code",
      "metadata": {
        "id": "p5zcBVe97zkR",
        "colab_type": "code",
        "colab": {
          "base_uri": "https://localhost:8080/",
          "height": 208
        },
        "outputId": "368ca763-8da0-41d8-9ca1-407045f9f49b"
      },
      "source": [
        "# Truncated view of the table above\n",
        "\n",
        "test_predictions.show(5)"
      ],
      "execution_count": 100,
      "outputs": [
        {
          "output_type": "stream",
          "text": [
            "+--------------------+-----+--------------------+--------------------+----------+\n",
            "|     scaled_features|label|       rawPrediction|         probability|prediction|\n",
            "+--------------------+-----+--------------------+--------------------+----------+\n",
            "|[0.16825445349725...|    1|[-1.7614376730515...|[0.02866831915107...|       1.0|\n",
            "|[0.22407981958951...|    0|[-1.7975961217842...|[0.02672174813844...|       1.0|\n",
            "|[0.23514976050323...|    0|[1.18993003615612...|[0.91527858438948...|       0.0|\n",
            "|[0.25850041711812...|    0|[1.36409447986899...|[0.93866966032324...|       0.0|\n",
            "|[0.33175229175815...|    1|[-0.8630743390577...|[0.15108086923735...|       1.0|\n",
            "+--------------------+-----+--------------------+--------------------+----------+\n",
            "only showing top 5 rows\n",
            "\n"
          ],
          "name": "stdout"
        }
      ]
    },
    {
      "cell_type": "markdown",
      "metadata": {
        "id": "2T4hAIMDP0Dl",
        "colab_type": "text"
      },
      "source": [
        "# Conclusion\n",
        "\n",
        "In this task we saw two machine learning models using **pySpark** to classify the conditions of the **nuclear reactor**. Also, we observed what **accuracy precision / recall** and **AUC** each model outcomes for this dataset and which one performs better. Apparently, **Gradient-boosting tree** model performs overall better than the **logistic regression** standard predictive model due to its technique of combining several **weak learning models** into a **powerful** predictive model. \n",
        "\n",
        "Additionally, we observerd how **different** the **dataframes** in Pyspark are in comparison to **Pandas** dataframes. We developed a couple of functions to achieve **complex operations** whereby in Pandas are **easier** to perform. However, a **huge** advantage over Pandas is that it can run the operation **paraller** on **different nodes** in a cluster. Moreover, it focuses on **low-level RDD abstraction** and **memory management** that increasing the **efficiency** and **robustness** for l**arge scale** computations, as we already outlined in the report task 1 for distributed big data processing ecosystem. "
      ]
    },
    {
      "cell_type": "code",
      "metadata": {
        "id": "bCpXQsoJoNHx",
        "colab_type": "code",
        "colab": {}
      },
      "source": [
        ""
      ],
      "execution_count": 0,
      "outputs": []
    }
  ]
}